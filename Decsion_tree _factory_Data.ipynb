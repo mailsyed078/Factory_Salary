{
 "cells": [
  {
   "cell_type": "code",
   "execution_count": 30,
   "id": "f0ba83d6",
   "metadata": {},
   "outputs": [],
   "source": [
    "import numpy as np\n",
    "import pandas as pd\n",
    "\n",
    "import matplotlib.pyplot as plt\n",
    "%matplotlib inline\n",
    "import seaborn as sns\n",
    "\n",
    "\n",
    "from sklearn.preprocessing import LabelEncoder\n",
    "from sklearn.preprocessing import StandardScaler, MinMaxScaler, RobustScaler\n",
    "\n",
    "from sklearn.model_selection import train_test_split\n",
    "from sklearn.linear_model import LogisticRegression\n",
    "from sklearn.metrics import classification_report\n",
    "from sklearn.metrics import plot_roc_curve\n",
    "\n",
    "from sklearn.tree import DecisionTreeClassifier\n",
    "from sklearn.tree import DecisionTreeRegressor\n",
    "\n"
   ]
  },
  {
   "cell_type": "code",
   "execution_count": 7,
   "id": "2e3e530f",
   "metadata": {},
   "outputs": [
    {
     "data": {
      "text/html": [
       "<div>\n",
       "<style scoped>\n",
       "    .dataframe tbody tr th:only-of-type {\n",
       "        vertical-align: middle;\n",
       "    }\n",
       "\n",
       "    .dataframe tbody tr th {\n",
       "        vertical-align: top;\n",
       "    }\n",
       "\n",
       "    .dataframe thead th {\n",
       "        text-align: right;\n",
       "    }\n",
       "</style>\n",
       "<table border=\"1\" class=\"dataframe\">\n",
       "  <thead>\n",
       "    <tr style=\"text-align: right;\">\n",
       "      <th></th>\n",
       "      <th>Date</th>\n",
       "      <th>Profession</th>\n",
       "      <th>Rank</th>\n",
       "      <th>Equipment</th>\n",
       "      <th>Insalubrity</th>\n",
       "      <th>Size_Production</th>\n",
       "      <th>Salary</th>\n",
       "    </tr>\n",
       "  </thead>\n",
       "  <tbody>\n",
       "    <tr>\n",
       "      <th>0</th>\n",
       "      <td>2009-01-01</td>\n",
       "      <td>Metal heater</td>\n",
       "      <td>7</td>\n",
       "      <td>Heating furnaces</td>\n",
       "      <td>22</td>\n",
       "      <td>580</td>\n",
       "      <td>26020.000000</td>\n",
       "    </tr>\n",
       "    <tr>\n",
       "      <th>1</th>\n",
       "      <td>2009-01-01</td>\n",
       "      <td>Metal heater</td>\n",
       "      <td>6</td>\n",
       "      <td>Heating furnaces</td>\n",
       "      <td>22</td>\n",
       "      <td>580</td>\n",
       "      <td>22980.000000</td>\n",
       "    </tr>\n",
       "    <tr>\n",
       "      <th>2</th>\n",
       "      <td>2009-01-01</td>\n",
       "      <td>Metal heater</td>\n",
       "      <td>5</td>\n",
       "      <td>Heating furnaces</td>\n",
       "      <td>22</td>\n",
       "      <td>580</td>\n",
       "      <td>20350.000000</td>\n",
       "    </tr>\n",
       "    <tr>\n",
       "      <th>3</th>\n",
       "      <td>2009-01-01</td>\n",
       "      <td>Metal heater</td>\n",
       "      <td>5</td>\n",
       "      <td>Heating furnaces</td>\n",
       "      <td>22</td>\n",
       "      <td>580</td>\n",
       "      <td>20350.000000</td>\n",
       "    </tr>\n",
       "    <tr>\n",
       "      <th>4</th>\n",
       "      <td>2009-01-01</td>\n",
       "      <td>Metal heater</td>\n",
       "      <td>4</td>\n",
       "      <td>Heating furnaces</td>\n",
       "      <td>22</td>\n",
       "      <td>580</td>\n",
       "      <td>18090.000000</td>\n",
       "    </tr>\n",
       "    <tr>\n",
       "      <th>...</th>\n",
       "      <td>...</td>\n",
       "      <td>...</td>\n",
       "      <td>...</td>\n",
       "      <td>...</td>\n",
       "      <td>...</td>\n",
       "      <td>...</td>\n",
       "      <td>...</td>\n",
       "    </tr>\n",
       "    <tr>\n",
       "      <th>259</th>\n",
       "      <td>2009-08-01</td>\n",
       "      <td>Quality controller</td>\n",
       "      <td>7</td>\n",
       "      <td>Control and measuring equipment</td>\n",
       "      <td>0</td>\n",
       "      <td>1180</td>\n",
       "      <td>26342.235294</td>\n",
       "    </tr>\n",
       "    <tr>\n",
       "      <th>260</th>\n",
       "      <td>2009-09-01</td>\n",
       "      <td>Quality controller</td>\n",
       "      <td>7</td>\n",
       "      <td>Control and measuring equipment</td>\n",
       "      <td>0</td>\n",
       "      <td>1080</td>\n",
       "      <td>25044.588235</td>\n",
       "    </tr>\n",
       "    <tr>\n",
       "      <th>261</th>\n",
       "      <td>2009-10-01</td>\n",
       "      <td>Quality controller</td>\n",
       "      <td>7</td>\n",
       "      <td>Control and measuring equipment</td>\n",
       "      <td>0</td>\n",
       "      <td>780</td>\n",
       "      <td>22060.000000</td>\n",
       "    </tr>\n",
       "    <tr>\n",
       "      <th>262</th>\n",
       "      <td>2009-11-01</td>\n",
       "      <td>Quality controller</td>\n",
       "      <td>7</td>\n",
       "      <td>Control and measuring equipment</td>\n",
       "      <td>0</td>\n",
       "      <td>1020</td>\n",
       "      <td>24266.000000</td>\n",
       "    </tr>\n",
       "    <tr>\n",
       "      <th>263</th>\n",
       "      <td>2009-12-01</td>\n",
       "      <td>Quality controller</td>\n",
       "      <td>7</td>\n",
       "      <td>Control and measuring equipment</td>\n",
       "      <td>0</td>\n",
       "      <td>810</td>\n",
       "      <td>22060.000000</td>\n",
       "    </tr>\n",
       "  </tbody>\n",
       "</table>\n",
       "<p>264 rows × 7 columns</p>\n",
       "</div>"
      ],
      "text/plain": [
       "           Date          Profession  Rank                        Equipment  \\\n",
       "0    2009-01-01        Metal heater     7                 Heating furnaces   \n",
       "1    2009-01-01        Metal heater     6                 Heating furnaces   \n",
       "2    2009-01-01        Metal heater     5                 Heating furnaces   \n",
       "3    2009-01-01        Metal heater     5                 Heating furnaces   \n",
       "4    2009-01-01        Metal heater     4                 Heating furnaces   \n",
       "..          ...                 ...   ...                              ...   \n",
       "259  2009-08-01  Quality controller     7  Control and measuring equipment   \n",
       "260  2009-09-01  Quality controller     7  Control and measuring equipment   \n",
       "261  2009-10-01  Quality controller     7  Control and measuring equipment   \n",
       "262  2009-11-01  Quality controller     7  Control and measuring equipment   \n",
       "263  2009-12-01  Quality controller     7  Control and measuring equipment   \n",
       "\n",
       "     Insalubrity  Size_Production        Salary  \n",
       "0             22              580  26020.000000  \n",
       "1             22              580  22980.000000  \n",
       "2             22              580  20350.000000  \n",
       "3             22              580  20350.000000  \n",
       "4             22              580  18090.000000  \n",
       "..           ...              ...           ...  \n",
       "259            0             1180  26342.235294  \n",
       "260            0             1080  25044.588235  \n",
       "261            0              780  22060.000000  \n",
       "262            0             1020  24266.000000  \n",
       "263            0              810  22060.000000  \n",
       "\n",
       "[264 rows x 7 columns]"
      ]
     },
     "execution_count": 7,
     "metadata": {},
     "output_type": "execute_result"
    }
   ],
   "source": [
    "factory = pd.read_csv('Factory_Salary.csv')\n",
    "factory"
   ]
  },
  {
   "cell_type": "code",
   "execution_count": 9,
   "id": "63ee9c35",
   "metadata": {},
   "outputs": [
    {
     "data": {
      "text/html": [
       "<div>\n",
       "<style scoped>\n",
       "    .dataframe tbody tr th:only-of-type {\n",
       "        vertical-align: middle;\n",
       "    }\n",
       "\n",
       "    .dataframe tbody tr th {\n",
       "        vertical-align: top;\n",
       "    }\n",
       "\n",
       "    .dataframe thead th {\n",
       "        text-align: right;\n",
       "    }\n",
       "</style>\n",
       "<table border=\"1\" class=\"dataframe\">\n",
       "  <thead>\n",
       "    <tr style=\"text-align: right;\">\n",
       "      <th></th>\n",
       "      <th>Date</th>\n",
       "      <th>Profession</th>\n",
       "      <th>Rank</th>\n",
       "      <th>Equipment</th>\n",
       "      <th>Insalubrity</th>\n",
       "      <th>Size_Production</th>\n",
       "      <th>Salary</th>\n",
       "    </tr>\n",
       "  </thead>\n",
       "  <tbody>\n",
       "    <tr>\n",
       "      <th>0</th>\n",
       "      <td>2009-01-01</td>\n",
       "      <td>Metal heater</td>\n",
       "      <td>7</td>\n",
       "      <td>Heating furnaces</td>\n",
       "      <td>22</td>\n",
       "      <td>580</td>\n",
       "      <td>26020.0</td>\n",
       "    </tr>\n",
       "    <tr>\n",
       "      <th>1</th>\n",
       "      <td>2009-01-01</td>\n",
       "      <td>Metal heater</td>\n",
       "      <td>6</td>\n",
       "      <td>Heating furnaces</td>\n",
       "      <td>22</td>\n",
       "      <td>580</td>\n",
       "      <td>22980.0</td>\n",
       "    </tr>\n",
       "    <tr>\n",
       "      <th>2</th>\n",
       "      <td>2009-01-01</td>\n",
       "      <td>Metal heater</td>\n",
       "      <td>5</td>\n",
       "      <td>Heating furnaces</td>\n",
       "      <td>22</td>\n",
       "      <td>580</td>\n",
       "      <td>20350.0</td>\n",
       "    </tr>\n",
       "    <tr>\n",
       "      <th>3</th>\n",
       "      <td>2009-01-01</td>\n",
       "      <td>Metal heater</td>\n",
       "      <td>5</td>\n",
       "      <td>Heating furnaces</td>\n",
       "      <td>22</td>\n",
       "      <td>580</td>\n",
       "      <td>20350.0</td>\n",
       "    </tr>\n",
       "    <tr>\n",
       "      <th>4</th>\n",
       "      <td>2009-01-01</td>\n",
       "      <td>Metal heater</td>\n",
       "      <td>4</td>\n",
       "      <td>Heating furnaces</td>\n",
       "      <td>22</td>\n",
       "      <td>580</td>\n",
       "      <td>18090.0</td>\n",
       "    </tr>\n",
       "  </tbody>\n",
       "</table>\n",
       "</div>"
      ],
      "text/plain": [
       "         Date    Profession  Rank         Equipment  Insalubrity  \\\n",
       "0  2009-01-01  Metal heater     7  Heating furnaces           22   \n",
       "1  2009-01-01  Metal heater     6  Heating furnaces           22   \n",
       "2  2009-01-01  Metal heater     5  Heating furnaces           22   \n",
       "3  2009-01-01  Metal heater     5  Heating furnaces           22   \n",
       "4  2009-01-01  Metal heater     4  Heating furnaces           22   \n",
       "\n",
       "   Size_Production   Salary  \n",
       "0              580  26020.0  \n",
       "1              580  22980.0  \n",
       "2              580  20350.0  \n",
       "3              580  20350.0  \n",
       "4              580  18090.0  "
      ]
     },
     "execution_count": 9,
     "metadata": {},
     "output_type": "execute_result"
    }
   ],
   "source": [
    "factory.head(5)"
   ]
  },
  {
   "cell_type": "code",
   "execution_count": 11,
   "id": "fdf83fc9",
   "metadata": {},
   "outputs": [
    {
     "data": {
      "text/plain": [
       "(264, 7)"
      ]
     },
     "execution_count": 11,
     "metadata": {},
     "output_type": "execute_result"
    }
   ],
   "source": [
    "factory.shape"
   ]
  },
  {
   "cell_type": "code",
   "execution_count": 21,
   "id": "e6cc30ee",
   "metadata": {},
   "outputs": [
    {
     "data": {
      "text/html": [
       "<div>\n",
       "<style scoped>\n",
       "    .dataframe tbody tr th:only-of-type {\n",
       "        vertical-align: middle;\n",
       "    }\n",
       "\n",
       "    .dataframe tbody tr th {\n",
       "        vertical-align: top;\n",
       "    }\n",
       "\n",
       "    .dataframe thead th {\n",
       "        text-align: right;\n",
       "    }\n",
       "</style>\n",
       "<table border=\"1\" class=\"dataframe\">\n",
       "  <thead>\n",
       "    <tr style=\"text-align: right;\">\n",
       "      <th></th>\n",
       "      <th>Rank</th>\n",
       "      <th>Insalubrity</th>\n",
       "      <th>Size_Production</th>\n",
       "      <th>Salary</th>\n",
       "    </tr>\n",
       "  </thead>\n",
       "  <tbody>\n",
       "    <tr>\n",
       "      <th>count</th>\n",
       "      <td>264.000000</td>\n",
       "      <td>264.000000</td>\n",
       "      <td>264.000000</td>\n",
       "      <td>264.000000</td>\n",
       "    </tr>\n",
       "    <tr>\n",
       "      <th>mean</th>\n",
       "      <td>4.909091</td>\n",
       "      <td>15.681818</td>\n",
       "      <td>988.333333</td>\n",
       "      <td>21030.461230</td>\n",
       "    </tr>\n",
       "    <tr>\n",
       "      <th>std</th>\n",
       "      <td>1.313600</td>\n",
       "      <td>6.682726</td>\n",
       "      <td>231.372715</td>\n",
       "      <td>4323.920780</td>\n",
       "    </tr>\n",
       "    <tr>\n",
       "      <th>min</th>\n",
       "      <td>3.000000</td>\n",
       "      <td>0.000000</td>\n",
       "      <td>580.000000</td>\n",
       "      <td>12180.000000</td>\n",
       "    </tr>\n",
       "    <tr>\n",
       "      <th>25%</th>\n",
       "      <td>4.000000</td>\n",
       "      <td>11.000000</td>\n",
       "      <td>805.000000</td>\n",
       "      <td>17830.000000</td>\n",
       "    </tr>\n",
       "    <tr>\n",
       "      <th>50%</th>\n",
       "      <td>5.000000</td>\n",
       "      <td>18.000000</td>\n",
       "      <td>985.000000</td>\n",
       "      <td>20350.000000</td>\n",
       "    </tr>\n",
       "    <tr>\n",
       "      <th>75%</th>\n",
       "      <td>6.000000</td>\n",
       "      <td>22.000000</td>\n",
       "      <td>1185.000000</td>\n",
       "      <td>23818.014706</td>\n",
       "    </tr>\n",
       "    <tr>\n",
       "      <th>max</th>\n",
       "      <td>7.000000</td>\n",
       "      <td>22.000000</td>\n",
       "      <td>1400.000000</td>\n",
       "      <td>33157.058824</td>\n",
       "    </tr>\n",
       "  </tbody>\n",
       "</table>\n",
       "</div>"
      ],
      "text/plain": [
       "             Rank  Insalubrity  Size_Production        Salary\n",
       "count  264.000000   264.000000       264.000000    264.000000\n",
       "mean     4.909091    15.681818       988.333333  21030.461230\n",
       "std      1.313600     6.682726       231.372715   4323.920780\n",
       "min      3.000000     0.000000       580.000000  12180.000000\n",
       "25%      4.000000    11.000000       805.000000  17830.000000\n",
       "50%      5.000000    18.000000       985.000000  20350.000000\n",
       "75%      6.000000    22.000000      1185.000000  23818.014706\n",
       "max      7.000000    22.000000      1400.000000  33157.058824"
      ]
     },
     "execution_count": 21,
     "metadata": {},
     "output_type": "execute_result"
    }
   ],
   "source": [
    "factory.describe()"
   ]
  },
  {
   "cell_type": "code",
   "execution_count": null,
   "id": "71b3b739",
   "metadata": {},
   "outputs": [],
   "source": [
    "## In this data \"churn\" will be considered as target and remaining cols apart from \"customer_id\" will be considered as \n",
    "## features to predict that customer will renew the policy or not. That means it is a supervided classifictaion \n",
    "## problem and it can be solved by decision tree or any linear based model like logistic regression model...\n",
    "churn.columns"
   ]
  },
  {
   "cell_type": "markdown",
   "id": "3f64227f",
   "metadata": {},
   "source": [
    "## EDA"
   ]
  },
  {
   "cell_type": "code",
   "execution_count": 12,
   "id": "a9c88fa7",
   "metadata": {},
   "outputs": [
    {
     "data": {
      "text/plain": [
       "Date                object\n",
       "Profession          object\n",
       "Rank                 int64\n",
       "Equipment           object\n",
       "Insalubrity          int64\n",
       "Size_Production      int64\n",
       "Salary             float64\n",
       "dtype: object"
      ]
     },
     "execution_count": 12,
     "metadata": {},
     "output_type": "execute_result"
    }
   ],
   "source": [
    "factory.dtypes"
   ]
  },
  {
   "cell_type": "code",
   "execution_count": 13,
   "id": "89959c80",
   "metadata": {
    "scrolled": true
   },
   "outputs": [
    {
     "name": "stdout",
     "output_type": "stream",
     "text": [
      "<class 'pandas.core.frame.DataFrame'>\n",
      "RangeIndex: 264 entries, 0 to 263\n",
      "Data columns (total 7 columns):\n",
      " #   Column           Non-Null Count  Dtype  \n",
      "---  ------           --------------  -----  \n",
      " 0   Date             264 non-null    object \n",
      " 1   Profession       264 non-null    object \n",
      " 2   Rank             264 non-null    int64  \n",
      " 3   Equipment        264 non-null    object \n",
      " 4   Insalubrity      264 non-null    int64  \n",
      " 5   Size_Production  264 non-null    int64  \n",
      " 6   Salary           264 non-null    float64\n",
      "dtypes: float64(1), int64(3), object(3)\n",
      "memory usage: 14.6+ KB\n"
     ]
    },
    {
     "name": "stderr",
     "output_type": "stream",
     "text": [
      "C:\\Users\\Samsung\\AppData\\Local\\Temp\\ipykernel_10124\\2565754999.py:3: FutureWarning: null_counts is deprecated. Use show_counts instead\n",
      "  factory.info(null_counts = True)\n"
     ]
    }
   ],
   "source": [
    "## after importing the data we have to some EDA like missin value check and data standarization :\n",
    "\n",
    "factory.info(null_counts = True)"
   ]
  },
  {
   "cell_type": "code",
   "execution_count": 15,
   "id": "b265f7a9",
   "metadata": {},
   "outputs": [
    {
     "data": {
      "text/plain": [
       "Index(['Date', 'Profession', 'Rank', 'Equipment', 'Insalubrity',\n",
       "       'Size_Production', 'Salary'],\n",
       "      dtype='object')"
      ]
     },
     "execution_count": 15,
     "metadata": {},
     "output_type": "execute_result"
    }
   ],
   "source": [
    "factory.columns"
   ]
  },
  {
   "cell_type": "code",
   "execution_count": 23,
   "id": "97dbe66e",
   "metadata": {},
   "outputs": [
    {
     "name": "stdout",
     "output_type": "stream",
     "text": [
      "(264, 7)\n",
      "(264, 7)\n"
     ]
    },
    {
     "name": "stderr",
     "output_type": "stream",
     "text": [
      "C:\\Users\\Samsung\\AppData\\Local\\Temp\\ipykernel_10124\\2365645232.py:8: DeprecationWarning: `np.object` is a deprecated alias for the builtin `object`. To silence this warning, use `object` by itself. Doing this will not modify any behavior and is safe. \n",
      "Deprecated in NumPy 1.20; for more details and guidance: https://numpy.org/devdocs/release/1.20.0-notes.html#deprecations\n",
      "  obj = factory.select_dtypes(include = np.object)\n"
     ]
    }
   ],
   "source": [
    "## i have devided into numeric and obj data\n",
    "## then done standardisation on num features\n",
    "## label encoding on obj features\n",
    "## concat both the datasets:\n",
    "\n",
    "\n",
    "num = factory.select_dtypes(include = np.number)\n",
    "obj = factory.select_dtypes(include = np.object)\n",
    "\n",
    "from sklearn.preprocessing import StandardScaler\n",
    "feature_scaler = StandardScaler()\n",
    "num2 = feature_scaler.fit_transform(num)\n",
    "num2 = pd.DataFrame(num2,columns= num.columns)\n",
    "\n",
    "from sklearn.preprocessing import LabelEncoder\n",
    "le = LabelEncoder()\n",
    "\n",
    "obj2 = obj.apply(le.fit_transform)\n",
    "obj2.head(2)\n",
    "\n",
    "factory2 = pd.concat([num2,obj2],axis =1)\n",
    "print(factory.shape)\n",
    "print(factory2.shape)"
   ]
  },
  {
   "cell_type": "code",
   "execution_count": 24,
   "id": "d5ad6519",
   "metadata": {},
   "outputs": [
    {
     "data": {
      "text/html": [
       "<div>\n",
       "<style scoped>\n",
       "    .dataframe tbody tr th:only-of-type {\n",
       "        vertical-align: middle;\n",
       "    }\n",
       "\n",
       "    .dataframe tbody tr th {\n",
       "        vertical-align: top;\n",
       "    }\n",
       "\n",
       "    .dataframe thead th {\n",
       "        text-align: right;\n",
       "    }\n",
       "</style>\n",
       "<table border=\"1\" class=\"dataframe\">\n",
       "  <thead>\n",
       "    <tr style=\"text-align: right;\">\n",
       "      <th></th>\n",
       "      <th>Rank</th>\n",
       "      <th>Insalubrity</th>\n",
       "      <th>Size_Production</th>\n",
       "      <th>Salary</th>\n",
       "      <th>Date</th>\n",
       "      <th>Profession</th>\n",
       "      <th>Equipment</th>\n",
       "    </tr>\n",
       "  </thead>\n",
       "  <tbody>\n",
       "    <tr>\n",
       "      <th>0</th>\n",
       "      <td>1.594763</td>\n",
       "      <td>0.947245</td>\n",
       "      <td>-1.768181</td>\n",
       "      <td>1.156130</td>\n",
       "      <td>0</td>\n",
       "      <td>2</td>\n",
       "      <td>2</td>\n",
       "    </tr>\n",
       "    <tr>\n",
       "      <th>1</th>\n",
       "      <td>0.832050</td>\n",
       "      <td>0.947245</td>\n",
       "      <td>-1.768181</td>\n",
       "      <td>0.451729</td>\n",
       "      <td>0</td>\n",
       "      <td>2</td>\n",
       "      <td>2</td>\n",
       "    </tr>\n",
       "    <tr>\n",
       "      <th>2</th>\n",
       "      <td>0.069338</td>\n",
       "      <td>0.947245</td>\n",
       "      <td>-1.768181</td>\n",
       "      <td>-0.157670</td>\n",
       "      <td>0</td>\n",
       "      <td>2</td>\n",
       "      <td>2</td>\n",
       "    </tr>\n",
       "    <tr>\n",
       "      <th>3</th>\n",
       "      <td>0.069338</td>\n",
       "      <td>0.947245</td>\n",
       "      <td>-1.768181</td>\n",
       "      <td>-0.157670</td>\n",
       "      <td>0</td>\n",
       "      <td>2</td>\n",
       "      <td>2</td>\n",
       "    </tr>\n",
       "    <tr>\n",
       "      <th>4</th>\n",
       "      <td>-0.693375</td>\n",
       "      <td>0.947245</td>\n",
       "      <td>-1.768181</td>\n",
       "      <td>-0.681337</td>\n",
       "      <td>0</td>\n",
       "      <td>2</td>\n",
       "      <td>2</td>\n",
       "    </tr>\n",
       "  </tbody>\n",
       "</table>\n",
       "</div>"
      ],
      "text/plain": [
       "       Rank  Insalubrity  Size_Production    Salary  Date  Profession  \\\n",
       "0  1.594763     0.947245        -1.768181  1.156130     0           2   \n",
       "1  0.832050     0.947245        -1.768181  0.451729     0           2   \n",
       "2  0.069338     0.947245        -1.768181 -0.157670     0           2   \n",
       "3  0.069338     0.947245        -1.768181 -0.157670     0           2   \n",
       "4 -0.693375     0.947245        -1.768181 -0.681337     0           2   \n",
       "\n",
       "   Equipment  \n",
       "0          2  \n",
       "1          2  \n",
       "2          2  \n",
       "3          2  \n",
       "4          2  "
      ]
     },
     "execution_count": 24,
     "metadata": {},
     "output_type": "execute_result"
    }
   ],
   "source": [
    "factory2.head(5)"
   ]
  },
  {
   "cell_type": "code",
   "execution_count": 25,
   "id": "ec72b0bb",
   "metadata": {},
   "outputs": [
    {
     "data": {
      "text/plain": [
       "Index(['Rank', 'Insalubrity', 'Size_Production', 'Salary', 'Date',\n",
       "       'Profession', 'Equipment'],\n",
       "      dtype='object')"
      ]
     },
     "execution_count": 25,
     "metadata": {},
     "output_type": "execute_result"
    }
   ],
   "source": [
    "factory2.columns"
   ]
  },
  {
   "cell_type": "code",
   "execution_count": 26,
   "id": "63605ab7",
   "metadata": {},
   "outputs": [],
   "source": [
    "x = factory2[['Rank', 'Insalubrity', 'Size_Production','Profession', 'Equipment']]\n",
    "y = factory2['Salary']"
   ]
  },
  {
   "cell_type": "code",
   "execution_count": 27,
   "id": "b058867f",
   "metadata": {},
   "outputs": [],
   "source": [
    "from sklearn.metrics import mean_squared_error,r2_score\n",
    "#from sklearn.feature_selection import RFE\n",
    "\n",
    "#rfe = RFE(DecisionTreeRegressor(),n_features_to_select=3)"
   ]
  },
  {
   "cell_type": "code",
   "execution_count": 28,
   "id": "f16c0f22",
   "metadata": {},
   "outputs": [],
   "source": [
    "x_train,x_test,y_train,y_test = train_test_split(x,y,test_size = 0.20)"
   ]
  },
  {
   "cell_type": "code",
   "execution_count": 31,
   "id": "bee0c1b4",
   "metadata": {},
   "outputs": [
    {
     "data": {
      "text/plain": [
       "DecisionTreeRegressor()"
      ]
     },
     "execution_count": 31,
     "metadata": {},
     "output_type": "execute_result"
    }
   ],
   "source": [
    "model = DecisionTreeRegressor()\n",
    "model.fit(x_train,y_train)"
   ]
  },
  {
   "cell_type": "code",
   "execution_count": 32,
   "id": "21084402",
   "metadata": {},
   "outputs": [],
   "source": [
    "pred = model.predict(x_test)"
   ]
  },
  {
   "cell_type": "code",
   "execution_count": 33,
   "id": "98f7e5a9",
   "metadata": {},
   "outputs": [
    {
     "name": "stdout",
     "output_type": "stream",
     "text": [
      "0.002720415353927897\n",
      "0.995076239177985\n"
     ]
    }
   ],
   "source": [
    "print(mean_squared_error(y_test,pred))\n",
    "print(r2_score(y_test,pred))"
   ]
  }
 ],
 "metadata": {
  "kernelspec": {
   "display_name": "Python 3 (ipykernel)",
   "language": "python",
   "name": "python3"
  },
  "language_info": {
   "codemirror_mode": {
    "name": "ipython",
    "version": 3
   },
   "file_extension": ".py",
   "mimetype": "text/x-python",
   "name": "python",
   "nbconvert_exporter": "python",
   "pygments_lexer": "ipython3",
   "version": "3.9.12"
  }
 },
 "nbformat": 4,
 "nbformat_minor": 5
}
